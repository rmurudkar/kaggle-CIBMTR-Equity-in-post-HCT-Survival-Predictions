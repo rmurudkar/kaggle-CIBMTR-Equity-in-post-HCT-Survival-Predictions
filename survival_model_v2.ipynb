{
 "cells": [
  {
   "cell_type": "code",
   "execution_count": null,
   "metadata": {},
   "outputs": [],
   "source": [
    "import pandas as pd\n",
    "import numpy as np\n",
    "from sklearn.model_selection import train_test_split\n",
    "from sklearn.preprocessing import OneHotEncoder\n",
    "from sklearn.compose import ColumnTransformer\n",
    "from sklearn.pipeline import Pipeline\n",
    "from sklearn.impute import SimpleImputer\n",
    "from sksurv.ensemble import GradientBoostingSurvivalAnalysis\n",
    "from sksurv.util import Surv\n",
    "from lifelines.utils import concordance_index\n",
    "from sklearn.metrics import roc_auc_score"
   ]
  },
  {
   "cell_type": "code",
   "execution_count": null,
   "metadata": {},
   "outputs": [],
   "source": [
    "from joblib import load\n",
    "model = load('./hyperopt_results/best_model.pkl')\n",
    "    \n",
    "test_df = pd.read_csv('./data/equity-post-HCT-survival-predictions/test.csv')\n"
   ]
  },
  {
   "cell_type": "code",
   "execution_count": 30,
   "metadata": {},
   "outputs": [
    {
     "data": {
      "text/plain": [
       "213"
      ]
     },
     "execution_count": 30,
     "metadata": {},
     "output_type": "execute_result"
    }
   ],
   "source": [
    "model.n_features_in_"
   ]
  },
  {
   "cell_type": "code",
   "execution_count": null,
   "metadata": {},
   "outputs": [],
   "source": [
    "def prepare_data(df, categorical_cols, id_col='ID', expected_columns=None):\n",
    "    # Create a copy of the dataframe\n",
    "    data = df.copy()\n",
    "    \n",
    "    # Ensure efs is integer (event indicator: 0 or 1)\n",
    "    # data['efs'] = data['efs'].astype(int)\n",
    "    \n",
    "    # Drop the ID column if it exists\n",
    "    if id_col in data.columns:\n",
    "        data = data.drop(columns=[id_col])\n",
    "        print(f\"Dropped column: {id_col}\")\n",
    "    else:\n",
    "        print(f\"No column named '{id_col}' found in the dataset\")\n",
    "        \n",
    "    \n",
    "    # Separate features and target\n",
    "    X = data\n",
    "    # y = Surv.from_arrays(event=data['efs'], time=data['efs_time'])\n",
    "    \n",
    "    \n",
    "    \n",
    "    # Define preprocessing for categorical and numerical columns\n",
    "    categorical_transformer = Pipeline(steps=[\n",
    "        ('imputer', SimpleImputer(strategy='constant', fill_value='Missing')),\n",
    "        ('onehot', OneHotEncoder(handle_unknown='ignore', sparse_output=False))\n",
    "    ])\n",
    "    \n",
    "    numerical_cols = [col for col in X.columns if col not in categorical_cols]\n",
    "    numerical_transformer = Pipeline(steps=[\n",
    "        ('imputer', SimpleImputer(strategy='median'))\n",
    "    ])\n",
    "    \n",
    "    preprocessor = ColumnTransformer(\n",
    "        transformers=[\n",
    "            ('cat', categorical_transformer, categorical_cols),\n",
    "            ('num', numerical_transformer, numerical_cols)\n",
    "        ])\n",
    "    \n",
    "    # Fit and transform the data\n",
    "    X_preprocessed = preprocessor.fit_transform(X)\n",
    "    \n",
    "    # Get feature names after one-hot encoding\n",
    "    cat_feature_names = preprocessor.named_transformers_['cat']['onehot'].get_feature_names_out(categorical_cols)\n",
    "    feature_names = np.concatenate([cat_feature_names, numerical_cols])\n",
    "    # Add missing columns that are in the expected list but not in the dataframe\n",
    "    if expected_columns is not None:\n",
    "        missing_cols = [col for col in expected_columns if col not in data.columns]\n",
    "        for col in missing_cols:\n",
    "            data[col] = 0  # Fill with 0 as specified\n",
    "            print(f\"Added missing column: {col} (filled with 0)\")\n",
    "    \n",
    "    return X_preprocessed"
   ]
  },
  {
   "cell_type": "code",
   "execution_count": null,
   "metadata": {},
   "outputs": [],
   "source": [
    "categorical_cols=[\n",
    "    'dri_score', 'psych_disturb', 'cyto_score', 'diabetes', 'tbi_status',\n",
    "    'arrhythmia', 'graft_type', 'vent_hist', 'renal_issue', 'pulm_severe',\n",
    "    'prim_disease_hct', 'cmv_status', 'tce_imm_match', 'rituximab',\n",
    "    'prod_type', 'cyto_score_detail', 'conditioning_intensity', 'ethnicity',\n",
    "    'obesity', 'mrd_hct', 'in_vivo_tcd', 'tce_match', 'hepatic_severe',\n",
    "    'prior_tumor', 'peptic_ulcer', 'gvhd_proph', 'rheum_issue', 'sex_match',\n",
    "    'race_group', 'hepatic_mild', 'tce_div_match', 'donor_related',\n",
    "    'melphalan_dose', 'cardiac', 'pulm_moderate'\n",
    "]\n",
    "id_col='ID'\n",
    "\n",
    "test_df_preprocessed = prepare_data(test_df, categorical_cols, id_col)"
   ]
  },
  {
   "cell_type": "code",
   "execution_count": null,
   "metadata": {},
   "outputs": [],
   "source": [
    "test_df_preprocessed.shape"
   ]
  },
  {
   "cell_type": "code",
   "execution_count": null,
   "metadata": {},
   "outputs": [],
   "source": [
    "model.co"
   ]
  },
  {
   "cell_type": "code",
   "execution_count": null,
   "metadata": {},
   "outputs": [],
   "source": [
    "def create_submission(predictions, ids, output_path):\n",
    "    \"\"\"\n",
    "    Create submission file in the required format\n",
    "    \"\"\"\n",
    "    submission = pd.DataFrame({\n",
    "        'ID': ids,\n",
    "        'prediction': predictions\n",
    "    })\n",
    "    \n",
    "    submission.to_csv(output_path, index=False)\n",
    "    print(f\"Submission file created at {output_path}\")\n",
    "    \n",
    "    return submission"
   ]
  },
  {
   "cell_type": "code",
   "execution_count": null,
   "metadata": {},
   "outputs": [],
   "source": []
  },
  {
   "cell_type": "code",
   "execution_count": null,
   "metadata": {},
   "outputs": [],
   "source": [
    "test_df_preprocessed.columns"
   ]
  },
  {
   "cell_type": "code",
   "execution_count": null,
   "metadata": {},
   "outputs": [],
   "source": []
  },
  {
   "cell_type": "code",
   "execution_count": null,
   "metadata": {},
   "outputs": [],
   "source": []
  }
 ],
 "metadata": {
  "kernelspec": {
   "display_name": "venv",
   "language": "python",
   "name": "python3"
  },
  "language_info": {
   "codemirror_mode": {
    "name": "ipython",
    "version": 3
   },
   "file_extension": ".py",
   "mimetype": "text/x-python",
   "name": "python",
   "nbconvert_exporter": "python",
   "pygments_lexer": "ipython3",
   "version": "3.8.3"
  }
 },
 "nbformat": 4,
 "nbformat_minor": 2
}
