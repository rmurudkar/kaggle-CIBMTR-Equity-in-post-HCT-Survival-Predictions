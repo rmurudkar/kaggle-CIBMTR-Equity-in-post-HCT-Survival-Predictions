{
 "cells": [
  {
   "cell_type": "code",
   "execution_count": 10,
   "metadata": {},
   "outputs": [],
   "source": [
    "import pandas as pd\n",
    "import xgboost as xgb\n",
    "from sklearn.model_selection import train_test_split\n",
    "# from sklearn.preprocessing import LabelEncoder\n",
    "from sklearn.metrics import classification_report, confusion_matrix\n",
    "from lifelines import CoxPHFitter\n",
    "from lifelines.utils import concordance_index\n",
    "import numpy as np\n",
    "from sklearn.metrics import roc_auc_score  # Import for ROC-AUC"
   ]
  },
  {
   "cell_type": "code",
   "execution_count": 40,
   "metadata": {},
   "outputs": [
    {
     "name": "stdout",
     "output_type": "stream",
     "text": [
      "float64\n",
      "int64\n",
      "Training set size: 20160 (70.00%)\n",
      "Validation set size: 4320 (15.00%)\n",
      "Test set size: 4320 (15.00%)\n"
     ]
    },
    {
     "name": "stderr",
     "output_type": "stream",
     "text": [
      "/Users/rishimurudkar/kaggle/CIBMTR-Equity-in-post-HCT-Survival-Predictions/venv/lib/python3.8/site-packages/xgboost/core.py:158: UserWarning: [16:25:51] WARNING: /Users/runner/work/xgboost/xgboost/src/learner.cc:740: \n",
      "Parameters: { \"n_estimators\" } are not used.\n",
      "\n",
      "  warnings.warn(smsg, UserWarning)\n"
     ]
    },
    {
     "name": "stdout",
     "output_type": "stream",
     "text": [
      "\n",
      "Training Accuracy: 0.4605\n",
      "Validation Accuracy: 0.4683\n",
      "Test Accuracy: 0.4542\n",
      "\n",
      "Test Set C-index: 0.4130\n",
      "Test Set ROC-AUC: 0.6126\n",
      "\n",
      "Top 10 most important features:\n",
      "             feature  importance\n",
      "4         age_at_hct         6.0\n",
      "2  cyto_score_detail         5.0\n",
      "1         cyto_score         2.0\n",
      "3            mrd_hct         2.0\n",
      "0                 ID         1.0\n",
      "5    karnofsky_score         1.0\n",
      "6      tce_div_match         1.0\n",
      "7     melphalan_dose         1.0\n"
     ]
    }
   ],
   "source": [
    "import pandas as pd\n",
    "import xgboost as xgb\n",
    "from sklearn.model_selection import train_test_split\n",
    "from sklearn.metrics import roc_auc_score\n",
    "from lifelines.utils import concordance_index\n",
    "\n",
    "# Basic read\n",
    "df = pd.read_csv('./data/equity-post-HCT-survival-predictions/train.csv')\n",
    "\n",
    "def prepare_data(df, categorical_cols):\n",
    "    # Create a copy of the dataframe\n",
    "    data = df.copy()\n",
    "    \n",
    "    # Convert efs to integer\n",
    "    data['efs'] = data['efs'].apply(int)\n",
    "    \n",
    "    # # Handle categorical variables by converting to 'category' dtype\n",
    "    for col in categorical_cols:\n",
    "        if col in data.columns:\n",
    "            # Convert to string first (handles mixed types), then to category\n",
    "            data[col] = data[col].astype(str).replace('nan', 'Missing').astype('category')\n",
    "    \n",
    "    # # Handle numerical columns (fill NaN with median)\n",
    "    numerical_cols = [col for col in data.columns if col not in categorical_cols]\n",
    "    for col in numerical_cols:\n",
    "        if col in data.columns:\n",
    "            data[col] = data[col].fillna(data[col].median())\n",
    "    \n",
    "    return data\n",
    "\n",
    "def split_train_and_evaluate_with_cindex(df, train_size=0.7, val_size=0.15, test_size=0.15,\n",
    "                                         categorical_cols=[\n",
    "        'dri_score', 'psych_disturb', 'cyto_score', 'diabetes', 'tbi_status',\n",
    "        'arrhythmia', 'graft_type', 'vent_hist', 'renal_issue', 'pulm_severe',\n",
    "        'prim_disease_hct', 'cmv_status', 'tce_imm_match', 'rituximab',\n",
    "        'prod_type', 'cyto_score_detail', 'conditioning_intensity', 'ethnicity',\n",
    "        'obesity', 'mrd_hct', 'in_vivo_tcd', 'tce_match', 'hepatic_severe',\n",
    "        'prior_tumor', 'peptic_ulcer', 'gvhd_proph', 'rheum_issue', 'sex_match',\n",
    "        'race_group', 'hepatic_mild', 'tce_div_match', 'donor_related',\n",
    "        'melphalan_dose', 'cardiac', 'pulm_moderate'\n",
    "    ]):\n",
    "    assert train_size + val_size + test_size == 1.0, \"Split sizes must sum to 1\"\n",
    "    \n",
    "    # Prepare the data\n",
    "    print(df['efs'].dtype)  # Should show int64 after apply(int)\n",
    "    data = prepare_data(df, categorical_cols)\n",
    "    print(data['efs'].dtype)  # Should show int64\n",
    "    \n",
    "    X = data.drop(['efs', 'efs_time'], axis=1)\n",
    "    y = data['efs']  # Event indicator (0 for Censoring, 1 for Event)\n",
    "    event_times = data['efs_time']  # Time to event\n",
    "    \n",
    "    # First split: Train + (Val + Test)\n",
    "    X_train, X_temp, y_train, y_temp, t_train, t_temp = train_test_split(\n",
    "        X, y, event_times,\n",
    "        test_size=(val_size + test_size),\n",
    "        random_state=42\n",
    "    )\n",
    "    \n",
    "    # Second split: Validation and Test\n",
    "    val_proportion = val_size / (val_size + test_size)\n",
    "    X_val, X_test, y_val, y_test, t_val, t_test = train_test_split(\n",
    "        X_temp, y_temp, t_temp,\n",
    "        test_size=(1 - val_proportion),\n",
    "        random_state=42\n",
    "    )\n",
    "    \n",
    "    # Print sizes\n",
    "    print(f\"Training set size: {len(X_train)} ({len(X_train)/len(X):.2%})\")\n",
    "    print(f\"Validation set size: {len(X_val)} ({len(X_val)/len(X):.2%})\")\n",
    "    print(f\"Test set size: {len(X_test)} ({len(X_test)/len(X):.2%})\")\n",
    "    \n",
    "    # Create DMatrix objects with enable_categorical=True\n",
    "    dtrain = xgb.DMatrix(X_train, label=y_train, enable_categorical=True)\n",
    "    dval = xgb.DMatrix(X_val, label=y_val, enable_categorical=True)\n",
    "    dtest = xgb.DMatrix(X_test, label=y_test, enable_categorical=True)\n",
    "    \n",
    "    # Define parameters\n",
    "    params = {\n",
    "        'objective': 'rank:pairwise',\n",
    "        'eval_metric': 'auc',\n",
    "        'max_depth': 6,\n",
    "        'learning_rate': 0.06,\n",
    "        'n_estimators': 150,\n",
    "        'min_child_weight': 4,\n",
    "        'gamma': 0.1,\n",
    "        'subsample': 0.7,\n",
    "        'colsample_bytree': 0.7,\n",
    "        'reg_alpha': 1.0,\n",
    "        'reg_lambda': 2.0,\n",
    "        'random_state': 42\n",
    "    }\n",
    "    \n",
    "    # Train the model with early stopping\n",
    "    evals = [(dtrain, 'train'), (dval, 'val')]\n",
    "    xgb_model = xgb.train(\n",
    "        params,\n",
    "        dtrain,\n",
    "        num_boost_round=params['n_estimators'],\n",
    "        evals=evals,\n",
    "        early_stopping_rounds=10,\n",
    "        verbose_eval=False,\n",
    "        # enable_categorical=True\n",
    "    )\n",
    "    \n",
    "    # Predict probabilities for evaluation\n",
    "    train_pred_proba = xgb_model.predict(dtrain)\n",
    "    val_pred_proba = xgb_model.predict(dval)\n",
    "    test_pred_proba = xgb_model.predict(dtest)\n",
    "    \n",
    "    # Calculate accuracy (threshold at 0.5)\n",
    "    train_score = ((train_pred_proba > 0.5).astype(int) == y_train).mean()\n",
    "    val_score = ((val_pred_proba > 0.5).astype(int) == y_val).mean()\n",
    "    test_score = ((test_pred_proba > 0.5).astype(int) == y_test).mean()\n",
    "    print(f\"\\nTraining Accuracy: {train_score:.4f}\")\n",
    "    print(f\"Validation Accuracy: {val_score:.4f}\")\n",
    "    print(f\"Test Accuracy: {test_score:.4f}\")\n",
    "    \n",
    "    # Calculate C-index for the test set\n",
    "    c_index = concordance_index(event_times=t_test, \n",
    "                               predicted_scores=test_pred_proba, \n",
    "                               event_observed=y_test)\n",
    "    print(f\"\\nTest Set C-index: {c_index:.4f}\")\n",
    "    \n",
    "    # Calculate ROC-AUC\n",
    "    roc_auc = roc_auc_score(y_test, test_pred_proba)\n",
    "    print(f\"Test Set ROC-AUC: {roc_auc:.4f}\")\n",
    "    \n",
    "    # Feature importance\n",
    "    importance_dict = xgb_model.get_score(importance_type='weight')\n",
    "    feature_importance = pd.DataFrame({\n",
    "        'feature': list(importance_dict.keys()),\n",
    "        'importance': list(importance_dict.values())\n",
    "    }).sort_values('importance', ascending=False)\n",
    "\n",
    "    print(\"\\nTop 10 most important features:\")\n",
    "    print(feature_importance.head(10))\n",
    "    \n",
    "    return xgb_model, X_train, X_val, X_test, y_train, y_val, y_test, t_train, t_val, t_test\n",
    "\n",
    "# Load and evaluate the model\n",
    "df = pd.read_csv('./data/equity-post-HCT-survival-predictions/train.csv')\n",
    "\n",
    "# Call the function\n",
    "model, X_train, X_val, X_test, y_train, y_val, y_test, t_train, t_val, t_test = split_train_and_evaluate_with_cindex(\n",
    "    df,\n",
    "    train_size=0.7,\n",
    "    val_size=0.15,\n",
    "    test_size=0.15\n",
    ")"
   ]
  },
  {
   "cell_type": "markdown",
   "metadata": {},
   "source": [
    "# Bin together dri categories\n",
    "- dri categories are \n",
    "  ['Intermediate' 'High' 'N/A - non-malignant indication' 'N/A - pediatric'\n",
    " 'High - TED AML case <missing cytogenetics' 'TBD cytogenetics' 'Low'\n",
    " 'Intermediate - TED AML case <missing cytogenetics'\n",
    " 'N/A - disease not classifiable' nan 'Very high' 'Missing disease status']\n",
    "\n",
    " new categories:\n",
    " High - 'High'\n",
    " \n",
    " Medium - 'Intermediate', 'High - TED AML case <missing cytogenetics', 'Intermediate - TED AML case <missing cytogenetics', 'Low', 'Missing disease status'\n",
    "\n",
    "Low -  'N/A - disease not classifiable', 'N/A - non-malignant indication', 'N/A - pediatric''TBD cytogenetics', "
   ]
  },
  {
   "cell_type": "markdown",
   "metadata": {},
   "source": []
  },
  {
   "cell_type": "code",
   "execution_count": 26,
   "metadata": {},
   "outputs": [
    {
     "name": "stdout",
     "output_type": "stream",
     "text": [
      "float64\n",
      "int64\n",
      "Training set size: 20160 (70.00%)\n",
      "Validation set size: 4320 (15.00%)\n",
      "Test set size: 4320 (15.00%)\n"
     ]
    },
    {
     "name": "stderr",
     "output_type": "stream",
     "text": [
      "/Users/rishimurudkar/kaggle/CIBMTR-Equity-in-post-HCT-Survival-Predictions/venv/lib/python3.8/site-packages/xgboost/core.py:158: UserWarning: [16:19:57] WARNING: /Users/runner/work/xgboost/xgboost/src/learner.cc:740: \n",
      "Parameters: { \"n_estimators\" } are not used.\n",
      "\n",
      "  warnings.warn(smsg, UserWarning)\n"
     ]
    },
    {
     "name": "stdout",
     "output_type": "stream",
     "text": [
      "\n",
      "Training Accuracy: 0.4605\n",
      "Validation Accuracy: 0.4683\n",
      "Test Accuracy: 0.4542\n",
      "\n",
      "Test Set C-index: 0.4013\n",
      "Test Set ROC-AUC: 0.6455\n",
      "\n",
      "Top 10 most important features:\n",
      "                  feature  importance\n",
      "1  conditioning_intensity         3.0\n",
      "2               donor_age         3.0\n",
      "3              age_at_hct         3.0\n",
      "5       comorbidity_score         3.0\n",
      "4              gvhd_proph         2.0\n",
      "0              cmv_status         1.0\n"
     ]
    }
   ],
   "source": [
    "# Define the mapping for the bins\n",
    "dri_bins = {\n",
    "    'High': ['High'],\n",
    "    'Medium': ['Intermediate', 'High - TED AML case <missing cytogenetics', \n",
    "               'Intermediate - TED AML case <missing cytogenetics', 'Low', \n",
    "               'Missing disease status'],\n",
    "    'Low': ['N/A - disease not classifiable', 'N/A - non-malignant indication', \n",
    "            'N/A - pediatric', 'TBD cytogenetics', 'Very high']\n",
    "}\n",
    "\n",
    "# Function to map dri_score to new bins\n",
    "def bin_dri_score(score):\n",
    "    if pd.isna(score):  # Handle NaN values\n",
    "        return 'Low'  # Assuming NaN goes to 'Low', adjust if needed\n",
    "    for bin_name, values in dri_bins.items():\n",
    "        if score in values:\n",
    "            return bin_name\n",
    "    return 'Low'  # Default for any unmapped values (e.g., edge cases)\n",
    "\n",
    "\n",
    "df['dri_score'] = df['dri_score'].apply(bin_dri_score)\n",
    "\n",
    "model, X_train, X_val, X_test, y_train, y_val, y_test, t_train, t_val, t_test = split_train_and_evaluate_with_cindex(\n",
    "    df,\n",
    "    train_size=0.7,\n",
    "    val_size=0.15,\n",
    "    test_size=0.15\n",
    ")"
   ]
  },
  {
   "cell_type": "markdown",
   "metadata": {},
   "source": [
    "- drop tce_imm_match\n",
    "\n"
   ]
  },
  {
   "cell_type": "code",
   "execution_count": 27,
   "metadata": {},
   "outputs": [
    {
     "name": "stdout",
     "output_type": "stream",
     "text": [
      "float64\n",
      "int64\n",
      "Training set size: 20160 (70.00%)\n",
      "Validation set size: 4320 (15.00%)\n",
      "Test set size: 4320 (15.00%)\n"
     ]
    },
    {
     "name": "stderr",
     "output_type": "stream",
     "text": [
      "/Users/rishimurudkar/kaggle/CIBMTR-Equity-in-post-HCT-Survival-Predictions/venv/lib/python3.8/site-packages/xgboost/core.py:158: UserWarning: [16:20:01] WARNING: /Users/runner/work/xgboost/xgboost/src/learner.cc:740: \n",
      "Parameters: { \"n_estimators\" } are not used.\n",
      "\n",
      "  warnings.warn(smsg, UserWarning)\n"
     ]
    },
    {
     "name": "stdout",
     "output_type": "stream",
     "text": [
      "\n",
      "Training Accuracy: 0.4605\n",
      "Validation Accuracy: 0.4683\n",
      "Test Accuracy: 0.4542\n",
      "\n",
      "Test Set C-index: 0.4202\n",
      "Test Set ROC-AUC: 0.6161\n",
      "\n",
      "Top 10 most important features:\n",
      "             feature  importance\n",
      "4          donor_age         7.0\n",
      "0         cyto_score         2.0\n",
      "1   prim_disease_hct         1.0\n",
      "2  cyto_score_detail         1.0\n",
      "3           year_hct         1.0\n",
      "5         age_at_hct         1.0\n"
     ]
    }
   ],
   "source": [
    "df = pd.read_csv('./data/equity-post-HCT-survival-predictions/train.csv')\n",
    "df = df.drop([\"tce_imm_match\"], axis=1)\n",
    "df['dri_score'] = df['dri_score'].apply(bin_dri_score)\n",
    "\n",
    "model, X_train, X_val, X_test, y_train, y_val, y_test, t_train, t_val, t_test = split_train_and_evaluate_with_cindex(\n",
    "    df,\n",
    "    train_size=0.7,\n",
    "    val_size=0.15,\n",
    "    test_size=0.15,\n",
    "     categorical_cols = [\n",
    "        'dri_score', 'psych_disturb', 'cyto_score', 'diabetes', 'tbi_status',\n",
    "        'arrhythmia', 'graft_type', 'vent_hist', 'renal_issue', 'pulm_severe',\n",
    "        'prim_disease_hct', 'cmv_status', 'rituximab',\n",
    "        'prod_type', 'cyto_score_detail', 'conditioning_intensity', 'ethnicity',\n",
    "        'obesity', 'mrd_hct', 'in_vivo_tcd', 'tce_match', 'hepatic_severe',\n",
    "        'prior_tumor', 'peptic_ulcer', 'gvhd_proph', 'rheum_issue', 'sex_match',\n",
    "        'race_group', 'hepatic_mild', 'tce_div_match', 'donor_related',\n",
    "        'melphalan_dose', 'cardiac', 'pulm_moderate'\n",
    "    ]\n",
    ")"
   ]
  },
  {
   "cell_type": "code",
   "execution_count": 28,
   "metadata": {},
   "outputs": [
    {
     "name": "stdout",
     "output_type": "stream",
     "text": [
      "float64\n",
      "int64\n",
      "Training set size: 23040 (80.00%)\n",
      "Validation set size: 2303 (8.00%)\n",
      "Test set size: 3457 (12.00%)\n"
     ]
    },
    {
     "name": "stderr",
     "output_type": "stream",
     "text": [
      "/Users/rishimurudkar/kaggle/CIBMTR-Equity-in-post-HCT-Survival-Predictions/venv/lib/python3.8/site-packages/xgboost/core.py:158: UserWarning: [16:20:07] WARNING: /Users/runner/work/xgboost/xgboost/src/learner.cc:740: \n",
      "Parameters: { \"n_estimators\" } are not used.\n",
      "\n",
      "  warnings.warn(smsg, UserWarning)\n"
     ]
    },
    {
     "name": "stdout",
     "output_type": "stream",
     "text": [
      "\n",
      "Training Accuracy: 0.4594\n",
      "Validation Accuracy: 0.4907\n",
      "Test Accuracy: 0.4492\n",
      "\n",
      "Test Set C-index: 0.4164\n",
      "Test Set ROC-AUC: 0.6322\n",
      "\n",
      "Top 10 most important features:\n",
      "                  feature  importance\n",
      "5               donor_age         5.0\n",
      "3  conditioning_intensity         4.0\n",
      "0                      ID         1.0\n",
      "1              cyto_score         1.0\n",
      "2           tce_imm_match         1.0\n",
      "4             in_vivo_tcd         1.0\n",
      "6              age_at_hct         1.0\n",
      "7           pulm_moderate         1.0\n"
     ]
    }
   ],
   "source": [
    "\n",
    "\n",
    "df = pd.read_csv('./data/equity-post-HCT-survival-predictions/train.csv')\n",
    "\n",
    "# df = df.drop([\"tce_imm_match\"], axis=1)\n",
    "# df['dri_score'] = df['dri_score'].apply(bin_dri_score)\n",
    "\n",
    "df['has_hodgekins'] = df['prim_disease_hct'].apply(lambda x: 1 if x == 'HD' else 0)\n",
    "df['has_hemophagocyticImmuneSyndrome'] = df['prim_disease_hct'].apply(lambda x: 1 if x == 'HIS' else 0)\n",
    "\n",
    "# Drop the original prim_disease_hct column\n",
    "# df = df.drop('prim_disease_hct', axis=1)\n",
    "\n",
    "model, X_train, X_val, X_test, y_train, y_val, y_test, t_train, t_val, t_test = split_train_and_evaluate_with_cindex(\n",
    "    df,\n",
    "    train_size=0.8,\n",
    "    val_size=0.08,\n",
    "    test_size=0.12,\n",
    "    categorical_cols= [\n",
    "        'dri_score', 'psych_disturb', 'cyto_score', 'diabetes', 'tbi_status',\n",
    "        'arrhythmia', 'graft_type', 'vent_hist', 'renal_issue', 'pulm_severe',\n",
    "        'prim_disease_hct', 'cmv_status', 'tce_imm_match', 'rituximab',\n",
    "        'prod_type', 'cyto_score_detail', 'conditioning_intensity', 'ethnicity',\n",
    "        'obesity', 'mrd_hct', 'in_vivo_tcd', 'tce_match', 'hepatic_severe',\n",
    "        'prior_tumor', 'peptic_ulcer', 'gvhd_proph', 'rheum_issue', 'sex_match',\n",
    "        'race_group', 'hepatic_mild', 'tce_div_match', 'donor_related',\n",
    "        'melphalan_dose', 'cardiac', 'pulm_moderate','has_hodgekins','has_hemophagocyticImmuneSyndrome'\n",
    "    ]\n",
    ")"
   ]
  },
  {
   "cell_type": "markdown",
   "metadata": {},
   "source": [
    "# drop 'hla_high_res_8', 'hla_low_res_8', 'hla_low_res_6', 'hla_high_res_6', 'hla_match_dqb1_high'"
   ]
  },
  {
   "cell_type": "code",
   "execution_count": 29,
   "metadata": {},
   "outputs": [
    {
     "name": "stdout",
     "output_type": "stream",
     "text": [
      "float64\n",
      "int64\n",
      "Training set size: 23040 (80.00%)\n",
      "Validation set size: 2303 (8.00%)\n",
      "Test set size: 3457 (12.00%)\n"
     ]
    },
    {
     "name": "stderr",
     "output_type": "stream",
     "text": [
      "/Users/rishimurudkar/kaggle/CIBMTR-Equity-in-post-HCT-Survival-Predictions/venv/lib/python3.8/site-packages/xgboost/core.py:158: UserWarning: [16:20:11] WARNING: /Users/runner/work/xgboost/xgboost/src/learner.cc:740: \n",
      "Parameters: { \"n_estimators\" } are not used.\n",
      "\n",
      "  warnings.warn(smsg, UserWarning)\n"
     ]
    },
    {
     "name": "stdout",
     "output_type": "stream",
     "text": [
      "\n",
      "Training Accuracy: 0.4594\n",
      "Validation Accuracy: 0.4907\n",
      "Test Accuracy: 0.4492\n",
      "\n",
      "Test Set C-index: 0.4231\n",
      "Test Set ROC-AUC: 0.6143\n",
      "\n",
      "Top 10 most important features:\n",
      "                  feature  importance\n",
      "2               donor_age         5.0\n",
      "1  conditioning_intensity         4.0\n",
      "3              age_at_hct         3.0\n",
      "0                      ID         1.0\n",
      "4       comorbidity_score         1.0\n"
     ]
    }
   ],
   "source": [
    "\n",
    "\n",
    "\n",
    "df = pd.read_csv('./data/equity-post-HCT-survival-predictions/train.csv')\n",
    "\n",
    "# df = df.drop([\"tce_imm_match\"], axis=1)\n",
    "# df['dri_score'] = df['dri_score'].apply(bin_dri_score)\n",
    "\n",
    "df['has_hodgekins'] = df['prim_disease_hct'].apply(lambda x: 1 if x == 'HD' else 0)\n",
    "df['has_hemophagocyticImmuneSyndrome'] = df['prim_disease_hct'].apply(lambda x: 1 if x == 'HIS' else 0)\n",
    "df = df.drop(['hla_high_res_8', 'hla_low_res_8', 'hla_low_res_6', 'hla_high_res_6', 'hla_match_dqb1_high'], axis=1)\n",
    "# Drop the original prim_disease_hct column\n",
    "df = df.drop('prim_disease_hct', axis=1)\n",
    "\n",
    "model, X_train, X_val, X_test, y_train, y_val, y_test, t_train, t_val, t_test = split_train_and_evaluate_with_cindex(\n",
    "    df,\n",
    "    train_size=0.8,\n",
    "    val_size=0.08,\n",
    "    test_size=0.12,\n",
    "    categorical_cols= [\n",
    "        'dri_score', 'psych_disturb', 'cyto_score', 'diabetes', 'tbi_status',\n",
    "        'arrhythmia', 'graft_type', 'vent_hist', 'renal_issue', 'pulm_severe',\n",
    "        'prim_disease_hct', 'cmv_status', 'tce_imm_match', 'rituximab',\n",
    "        'prod_type', 'cyto_score_detail', 'conditioning_intensity', 'ethnicity',\n",
    "        'obesity', 'mrd_hct', 'in_vivo_tcd', 'tce_match', 'hepatic_severe',\n",
    "        'prior_tumor', 'peptic_ulcer', 'gvhd_proph', 'rheum_issue', 'sex_match',\n",
    "        'race_group', 'hepatic_mild', 'tce_div_match', 'donor_related',\n",
    "        'melphalan_dose', 'cardiac', 'pulm_moderate','has_hodgekins','has_hemophagocyticImmuneSyndrome'\n",
    "    ]\n",
    ")"
   ]
  },
  {
   "cell_type": "markdown",
   "metadata": {},
   "source": [
    "# convert the specified HLA features (hla_high_res_8, hla_match_a_high, hla_match_b_high, hla_low_res_6) in a DataFrame into categorical features based on their 25th percentile"
   ]
  },
  {
   "cell_type": "code",
   "execution_count": 23,
   "metadata": {},
   "outputs": [
    {
     "name": "stdout",
     "output_type": "stream",
     "text": [
      "float64\n",
      "int64\n",
      "Training set size: 23040 (80.00%)\n",
      "Validation set size: 2303 (8.00%)\n",
      "Test set size: 3457 (12.00%)\n"
     ]
    },
    {
     "name": "stderr",
     "output_type": "stream",
     "text": [
      "/Users/rishimurudkar/kaggle/CIBMTR-Equity-in-post-HCT-Survival-Predictions/venv/lib/python3.8/site-packages/xgboost/core.py:158: UserWarning: [16:19:01] WARNING: /Users/runner/work/xgboost/xgboost/src/learner.cc:740: \n",
      "Parameters: { \"n_estimators\" } are not used.\n",
      "\n",
      "  warnings.warn(smsg, UserWarning)\n"
     ]
    },
    {
     "name": "stdout",
     "output_type": "stream",
     "text": [
      "\n",
      "Training Accuracy: 0.4594\n",
      "Validation Accuracy: 0.4907\n",
      "Test Accuracy: 0.4492\n",
      "\n",
      "Test Set C-index: 0.3976\n",
      "Test Set ROC-AUC: 0.6510\n",
      "\n",
      "Top 10 most important features:\n",
      "                  feature  importance\n",
      "3              age_at_hct         3.0\n",
      "5       comorbidity_score         3.0\n",
      "2  conditioning_intensity         2.0\n",
      "0                      ID         1.0\n",
      "1       cyto_score_detail         1.0\n",
      "4              gvhd_proph         1.0\n"
     ]
    }
   ],
   "source": [
    "df = pd.read_csv('./data/equity-post-HCT-survival-predictions/train.csv')\n",
    "\n",
    "\n",
    "# Assuming df is the DataFrame with the data\n",
    "# List of HLA features to convert\n",
    "hla_features = ['hla_high_res_8', 'hla_match_a_high', 'hla_match_b_high', 'hla_low_res_6']\n",
    "\n",
    "# Function to categorize based on 25th percentile\n",
    "def categorize_by_percentile(series):\n",
    "    threshold = series.quantile(0.25)  # Calculate the 25th percentile\n",
    "    return np.where(series <= threshold, 0, 1)  # 0 if <= threshold, 1 if above\n",
    "\n",
    "# Convert each HLA feature to categorical (0 or 1)\n",
    "for feature in hla_features:\n",
    "    # new_column = f\"{feature}_cat\"  # Create a new column name for the categorical version\n",
    "    df[feature] = categorize_by_percentile(df[feature])\n",
    "\n",
    "# Display the first few rows to verify\n",
    "# print(\"First 5 rows with original and categorical features:\")\n",
    "    \n",
    "    \n",
    "# df = df.drop([\"tce_imm_match\"], axis=1)\n",
    "df['dri_score'] = df['dri_score'].apply(bin_dri_score)\n",
    "\n",
    "df['has_hodgekins'] = df['prim_disease_hct'].apply(lambda x: 1 if x == 'HD' else 0)\n",
    "df['has_hemophagocyticImmuneSyndrome'] = df['prim_disease_hct'].apply(lambda x: 1 if x == 'HIS' else 0)\n",
    "# Drop the original prim_disease_hct column\n",
    "# df = df.drop('prim_disease_hct', axis=1)\n",
    "\n",
    "df['pediatric_and_arrhythmia'] = ((df['dri_score'] == 'N/A - pediatric') & (df['arrhythmia'] == 'Yes')).astype(int)\n",
    "\n",
    "model, X_train, X_val, X_test, y_train, y_val, y_test, t_train, t_val, t_test = split_train_and_evaluate_with_cindex(\n",
    "    df,\n",
    "    train_size=0.8,\n",
    "    val_size=0.08,\n",
    "    test_size=0.12,\n",
    "    categorical_cols= [\n",
    "        'dri_score', 'psych_disturb', 'cyto_score', 'diabetes', 'tbi_status',\n",
    "        'arrhythmia', 'graft_type', 'vent_hist', 'renal_issue', 'pulm_severe',\n",
    "        'prim_disease_hct', 'cmv_status', 'tce_imm_match', 'rituximab',\n",
    "        'prod_type', 'cyto_score_detail', 'conditioning_intensity', 'ethnicity',\n",
    "        'obesity', 'mrd_hct', 'in_vivo_tcd', 'tce_match', 'hepatic_severe',\n",
    "        'prior_tumor', 'peptic_ulcer', 'gvhd_proph', 'rheum_issue', 'sex_match',\n",
    "        'race_group', 'hepatic_mild', 'tce_div_match', 'donor_related',\n",
    "        'melphalan_dose', 'cardiac', 'pulm_moderate','has_hodgekins','has_hemophagocyticImmuneSyndrome', 'pediatric_and_arrhythmia'\n",
    "    ]\n",
    ")"
   ]
  },
  {
   "cell_type": "code",
   "execution_count": null,
   "metadata": {},
   "outputs": [],
   "source": [
    "\n"
   ]
  },
  {
   "cell_type": "code",
   "execution_count": null,
   "metadata": {},
   "outputs": [],
   "source": []
  }
 ],
 "metadata": {
  "kernelspec": {
   "display_name": "venv",
   "language": "python",
   "name": "python3"
  },
  "language_info": {
   "codemirror_mode": {
    "name": "ipython",
    "version": 3
   },
   "file_extension": ".py",
   "mimetype": "text/x-python",
   "name": "python",
   "nbconvert_exporter": "python",
   "pygments_lexer": "ipython3",
   "version": "3.8.3"
  }
 },
 "nbformat": 4,
 "nbformat_minor": 2
}
