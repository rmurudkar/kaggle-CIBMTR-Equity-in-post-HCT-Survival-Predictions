{
 "cells": [
  {
   "cell_type": "code",
   "execution_count": 4,
   "metadata": {},
   "outputs": [
    {
     "name": "stdout",
     "output_type": "stream",
     "text": [
      "Concordance Index on test set: 0.662\n",
      "Patient 1 survival probabilities at time points:\n"
     ]
    },
    {
     "ename": "AttributeError",
     "evalue": "'RandomSurvivalForest' object has no attribute 'event_times_'",
     "output_type": "error",
     "traceback": [
      "\u001b[0;31m---------------------------------------------------------------------------\u001b[0m",
      "\u001b[0;31mAttributeError\u001b[0m                            Traceback (most recent call last)",
      "Cell \u001b[0;32mIn[4], line 63\u001b[0m\n\u001b[1;32m     61\u001b[0m \u001b[38;5;28;01mfor\u001b[39;00m i, surv_func \u001b[38;5;129;01min\u001b[39;00m \u001b[38;5;28menumerate\u001b[39m(surv_funcs[:\u001b[38;5;241m5\u001b[39m]):  \u001b[38;5;66;03m# Show first 5 for brevity\u001b[39;00m\n\u001b[1;32m     62\u001b[0m     \u001b[38;5;28mprint\u001b[39m(\u001b[38;5;124mf\u001b[39m\u001b[38;5;124m\"\u001b[39m\u001b[38;5;124mPatient \u001b[39m\u001b[38;5;132;01m{\u001b[39;00mi\u001b[38;5;241m+\u001b[39m\u001b[38;5;241m1\u001b[39m\u001b[38;5;132;01m}\u001b[39;00m\u001b[38;5;124m survival probabilities at time points:\u001b[39m\u001b[38;5;124m\"\u001b[39m)\n\u001b[0;32m---> 63\u001b[0m     \u001b[38;5;28mprint\u001b[39m(surv_func(\u001b[43mrsf\u001b[49m\u001b[38;5;241;43m.\u001b[39;49m\u001b[43mevent_times_\u001b[49m[:\u001b[38;5;241m5\u001b[39m]))  \u001b[38;5;66;03m# First 5 time points\u001b[39;00m\n",
      "\u001b[0;31mAttributeError\u001b[0m: 'RandomSurvivalForest' object has no attribute 'event_times_'"
     ]
    }
   ],
   "source": [
    "import pandas as pd\n",
    "import numpy as np\n",
    "from sksurv.ensemble import RandomSurvivalForest\n",
    "from sksurv.util import Surv\n",
    "from sklearn.model_selection import train_test_split\n",
    "from sklearn.preprocessing import LabelEncoder\n",
    "from sklearn.impute import SimpleImputer\n",
    "\n",
    "# Assuming your data is in a DataFrame called 'df'\n",
    "# Replace this with your actual data loading step\n",
    "# For example: df = pd.read_csv('your_data.csv')\n",
    "# For this example, I'll simulate loading your document structure\n",
    "\n",
    "df = pd.read_csv('./data/equity-post-HCT-survival-predictions/train.csv')\n",
    "# Step 1: Prepare the survival outcome (structured array for scikit-survival)\n",
    "y = Surv.from_arrays(event=df['efs'], time=df['efs_time'])\n",
    "\n",
    "# Step 2: Select features (excluding target variables 'efs' and 'efs_time')\n",
    "feature_cols = [col for col in df.columns if col not in ['ID', 'efs', 'efs_time']]\n",
    "X = df[feature_cols]\n",
    "\n",
    "# Step 3: Preprocess the data\n",
    "# Separate categorical and numerical columns\n",
    "categorical_cols = X.select_dtypes(include=['object']).columns\n",
    "numerical_cols = X.select_dtypes(include=['float64', 'int64']).columns\n",
    "\n",
    "# Impute missing values\n",
    "# For categorical: use most frequent value\n",
    "cat_imputer = SimpleImputer(strategy='most_frequent')\n",
    "X_cat = pd.DataFrame(cat_imputer.fit_transform(X[categorical_cols]), \n",
    "                     columns=categorical_cols)\n",
    "\n",
    "# For numerical: use median (if any numerical features are added)\n",
    "num_imputer = SimpleImputer(strategy='median')\n",
    "X_num = pd.DataFrame(num_imputer.fit_transform(X[numerical_cols]), \n",
    "                     columns=numerical_cols) if not numerical_cols.empty else pd.DataFrame()\n",
    "\n",
    "# Apply one-hot encoding to categorical variables\n",
    "X_cat_encoded = pd.get_dummies(X_cat, columns=categorical_cols, drop_first=True)\n",
    "\n",
    "# Combine processed categorical and numerical data\n",
    "X_processed = pd.concat([X_cat_encoded, X_num], axis=1) if not X_num.empty else X_cat_encoded\n",
    "\n",
    "# Step 4: Split the data into training and testing sets\n",
    "X_train, X_test, y_train, y_test = train_test_split(X_processed, y, test_size=0.2, random_state=42)\n",
    "\n",
    "# Step 5: Train the Random Survival Forest\n",
    "rsf = RandomSurvivalForest(n_estimators=100,  # Number of trees\n",
    "                           min_samples_split=10,\n",
    "                           min_samples_leaf=15,\n",
    "                           max_depth=None,    # Allow trees to grow fully if desired\n",
    "                           random_state=42)\n",
    "rsf.fit(X_train, y_train)\n",
    "\n",
    "# Step 6: Evaluate the model (Concordance Index)\n",
    "c_index = rsf.score(X_test, y_test)\n",
    "print(f\"Concordance Index on test set: {c_index:.3f}\")\n",
    "\n",
    "# Optional: Predict survival function for test data\n",
    "surv_funcs = rsf.predict_survival_function(X_test)\n",
    "for i, surv_func in enumerate(surv_funcs[:5]):  # Show first 5 for brevity\n",
    "    print(f\"Patient {i+1} survival probabilities at time points:\")\n",
    "    print(surv_func(rsf.event_times_[:5]))  # First 5 time points"
   ]
  },
  {
   "cell_type": "code",
   "execution_count": null,
   "metadata": {},
   "outputs": [],
   "source": []
  }
 ],
 "metadata": {
  "kernelspec": {
   "display_name": "venv",
   "language": "python",
   "name": "python3"
  },
  "language_info": {
   "codemirror_mode": {
    "name": "ipython",
    "version": 3
   },
   "file_extension": ".py",
   "mimetype": "text/x-python",
   "name": "python",
   "nbconvert_exporter": "python",
   "pygments_lexer": "ipython3",
   "version": "3.8.3"
  }
 },
 "nbformat": 4,
 "nbformat_minor": 2
}
